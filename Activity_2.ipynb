{
  "nbformat": 4,
  "nbformat_minor": 0,
  "metadata": {
    "colab": {
      "provenance": [],
      "authorship_tag": "ABX9TyOyn4igGZHhU3De5VxDCTuO",
      "include_colab_link": true
    },
    "kernelspec": {
      "name": "python3",
      "display_name": "Python 3"
    },
    "language_info": {
      "name": "python"
    }
  },
  "cells": [
    {
      "cell_type": "markdown",
      "metadata": {
        "id": "view-in-github",
        "colab_type": "text"
      },
      "source": [
        "<a href=\"https://colab.research.google.com/github/RYCMDNT/CPEN65-2/blob/main/Activity_2.ipynb\" target=\"_parent\"><img src=\"https://colab.research.google.com/assets/colab-badge.svg\" alt=\"Open In Colab\"/></a>"
      ]
    },
    {
      "cell_type": "code",
      "execution_count": 1,
      "metadata": {
        "id": "aYQ1zHPyN-E5",
        "colab": {
          "base_uri": "https://localhost:8080/"
        },
        "outputId": "ab8955bd-0d7a-42a9-e819-7f8709ac05ae"
      },
      "outputs": [
        {
          "output_type": "stream",
          "name": "stdout",
          "text": [
            "['R', 'O', 'D', 'O', 'L', 'F', 'O', 'Y', 'U', 'A', 'N', 'D', 'A', 'V', 'I', 'D', 'C', 'O', 'M', 'A', 'N', 'D', 'A', 'N', 'T', 'E', 'I', 'I', 'I']\n",
            "['I', 'I', 'I', 'E', 'T', 'N', 'A', 'D', 'N', 'A', 'M', 'O', 'C', 'D', 'I', 'V', 'A', 'D', 'N', 'A', 'U', 'Y', 'O', 'F', 'L', 'O', 'D', 'O', 'R']\n"
          ]
        }
      ],
      "source": [
        "#create a python program the use Array\n",
        "#insert each character of your full name and display each character of your full name in reverse order\n",
        "\n",
        "Name = [\"R\", \"O\",\"D\",\"O\",\"L\",\"F\",\"O\",\"Y\",\"U\",\"A\",\"N\",\"D\",\"A\",\"V\",\"I\",\"D\",\"C\",\"O\",\"M\",\"A\",\"N\",\"D\",\"A\",\"N\",\"T\",\"E\",\"I\",\"I\",\"I\"]\n",
        "print(Name)\n",
        "Name.reverse()\n",
        "print(Name)\n"
      ]
    }
  ]
}