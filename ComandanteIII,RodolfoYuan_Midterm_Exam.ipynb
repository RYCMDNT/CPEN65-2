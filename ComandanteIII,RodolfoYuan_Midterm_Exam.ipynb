{
  "nbformat": 4,
  "nbformat_minor": 0,
  "metadata": {
    "colab": {
      "provenance": [],
      "authorship_tag": "ABX9TyMe+E2TjGxp48+4+AZN/AcY",
      "include_colab_link": true
    },
    "kernelspec": {
      "name": "python3",
      "display_name": "Python 3"
    },
    "language_info": {
      "name": "python"
    }
  },
  "cells": [
    {
      "cell_type": "markdown",
      "metadata": {
        "id": "view-in-github",
        "colab_type": "text"
      },
      "source": [
        "<a href=\"https://colab.research.google.com/github/RYCMDNT/CPEN65-2/blob/main/ComandanteIII%2CRodolfoYuan_Midterm_Exam.ipynb\" target=\"_parent\"><img src=\"https://colab.research.google.com/assets/colab-badge.svg\" alt=\"Open In Colab\"/></a>"
      ]
    },
    {
      "cell_type": "code",
      "source": [
        "#1\n",
        "import array as arr\n",
        "num = arr.array('i',[1, 2, 3, 4, 5, 6, 7, 8, 9, 10])\n",
        "for index,val in enumerate(num):\n",
        "  print(index,val)\n",
        "\n",
        "uno = int((input(\"Enter the 1st index: \")))\n",
        "dos = int((input(\"Enter the 2nd index: \")))\n",
        "\n",
        "u_arr = num[first]\n",
        "d_arr = num[second]\n",
        "print(\"The Value of\", uno, \"index\", u_arr)\n",
        "print(\"The Value of\", dos, \"index\", d_arr)\n",
        "\n",
        "ans = (u_arr + d_arr)\n",
        "print(\"The Sum of the Two Indexes is: \", ans)"
      ],
      "metadata": {
        "colab": {
          "base_uri": "https://localhost:8080/"
        },
        "id": "ousN5B5ICV5P",
        "outputId": "30b59c3f-6739-4aa3-f26e-9d82b80eba55"
      },
      "execution_count": 58,
      "outputs": [
        {
          "output_type": "stream",
          "name": "stdout",
          "text": [
            "0 1\n",
            "1 2\n",
            "2 3\n",
            "3 4\n",
            "4 5\n",
            "5 6\n",
            "6 7\n",
            "7 8\n",
            "8 9\n",
            "9 10\n",
            "Enter the 1st index: 4\n",
            "Enter the 2nd index: 5\n",
            "The Value of 4 index 3\n",
            "The Value of 5 index 4\n",
            "The Sum of the Two Indexes is:  7\n"
          ]
        }
      ]
    },
    {
      "cell_type": "code",
      "execution_count": null,
      "metadata": {
        "colab": {
          "base_uri": "https://localhost:8080/"
        },
        "id": "es8QAP0B-S-Q",
        "outputId": "e7790d0d-b7f7-41d9-ae3f-b588cb1f32a5"
      },
      "outputs": [
        {
          "output_type": "stream",
          "name": "stdout",
          "text": [
            "array('i', [1, 2, 3, 4, 5, 6, 7, 8, 9, 10])\n",
            "array('i', [1, 2, 3, 4, 5, 6, 7, 8, 9, 10, 11])\n"
          ]
        }
      ],
      "source": [
        "#2\n",
        "import array as arr\n",
        "numbers = arr.array('i',[1, 2, 3, 4, 5, 6, 7, 8, 9, 10])\n",
        "print(numbers)\n",
        "\n",
        "a = numbers.insert(11,11)\n",
        "print(numbers)"
      ]
    },
    {
      "cell_type": "code",
      "source": [
        "#3\n",
        "import array as arr\n",
        "numbers = arr.array('i',[1, 2, 3, 4, 5, 6, 7, 8, 9, 10])\n",
        "print(numbers)\n",
        "\n",
        "a = numbers.insert(1,11)\n",
        "print(numbers)"
      ],
      "metadata": {
        "colab": {
          "base_uri": "https://localhost:8080/"
        },
        "id": "SiFciCToArNy",
        "outputId": "b309f79e-4758-477c-9a39-db50234fe3c8"
      },
      "execution_count": null,
      "outputs": [
        {
          "output_type": "stream",
          "name": "stdout",
          "text": [
            "array('i', [1, 2, 3, 4, 5, 6, 7, 8, 9, 10])\n",
            "array('i', [1, 11, 2, 3, 4, 5, 6, 7, 8, 9, 10])\n"
          ]
        }
      ]
    },
    {
      "cell_type": "code",
      "source": [
        "#4\n",
        "import array as arr\n",
        "numbers = arr.array('i',[5,4,3,2,1])\n",
        "print(numbers)\n",
        "\n",
        "numbers.reverse()\n",
        "print(numbers)"
      ],
      "metadata": {
        "colab": {
          "base_uri": "https://localhost:8080/"
        },
        "id": "HjE5jDgnBV-B",
        "outputId": "379f94b4-2edb-469c-fcca-8051557e24ea"
      },
      "execution_count": null,
      "outputs": [
        {
          "output_type": "stream",
          "name": "stdout",
          "text": [
            "array('i', [5, 4, 3, 2, 1])\n",
            "array('i', [1, 2, 3, 4, 5])\n"
          ]
        }
      ]
    },
    {
      "cell_type": "code",
      "source": [
        "#5\n",
        "import array as arr\n",
        "numbers = arr.array('i',[5,4,3,2,1])\n",
        "print(numbers)\n",
        "len(numbers)\n",
        "print(len(numbers))\n"
      ],
      "metadata": {
        "colab": {
          "base_uri": "https://localhost:8080/"
        },
        "id": "dSfkVDeAB9vS",
        "outputId": "5f57bf7b-9cd0-4299-a908-aec45d840b8e"
      },
      "execution_count": null,
      "outputs": [
        {
          "output_type": "stream",
          "name": "stdout",
          "text": [
            "array('i', [5, 4, 3, 2, 1])\n",
            "5\n"
          ]
        }
      ]
    }
  ]
}